{
 "cells": [
  {
   "cell_type": "code",
   "execution_count": 1,
   "metadata": {},
   "outputs": [],
   "source": [
    "import pandas as pd\n",
    "import networkx"
   ]
  },
  {
   "cell_type": "code",
   "execution_count": 2,
   "metadata": {},
   "outputs": [
    {
     "name": "stdout",
     "output_type": "stream",
     "text": [
      "Longest path is from 5 to 7 of length 5\n"
     ]
    }
   ],
   "source": [
    "from collections import deque\n",
    " \n",
    " \n",
    "class Graph:\n",
    " \n",
    "    # Initialisation of graph\n",
    "    def __init__(self, vertices):\n",
    " \n",
    "        # No. of vertices\n",
    "        self.vertices = vertices\n",
    " \n",
    "        # adjacency list\n",
    "        self.adj = {i: [] for i in range(self.vertices)}\n",
    " \n",
    "    def addEdge(self, u, v):\n",
    "        # add u to v's list\n",
    "        self.adj[u].append(v)\n",
    "        # since the graph is undirected\n",
    "        self.adj[v].append(u)\n",
    " \n",
    "    # method return farthest node and its distance from node u\n",
    "    def BFS(self, u):\n",
    "        # marking all nodes as unvisited\n",
    "        visited = [False for i in range(self.vertices + 1)]\n",
    "        # mark all distance with -1\n",
    "        distance = [-1 for i in range(self.vertices + 1)]\n",
    " \n",
    "        # distance of u from u will be 0\n",
    "        distance[u] = 0\n",
    "        # in-built library for queue which performs fast operations on both the ends\n",
    "        queue = deque()\n",
    "        queue.append(u)\n",
    "        # mark node u as visited\n",
    "        visited[u] = True\n",
    " \n",
    "        while queue:\n",
    " \n",
    "            # pop the front of the queue(0th element)\n",
    "            front = queue.popleft()\n",
    "            # loop for all adjacent nodes of node front\n",
    " \n",
    "            for i in self.adj[front]:\n",
    "                if not visited[i]:\n",
    "                    # mark the ith node as visited\n",
    "                    visited[i] = True\n",
    "                    # make distance of i , one more than distance of front\n",
    "                    distance[i] = distance[front]+1\n",
    "                    # Push node into the stack only if it is not visited already\n",
    "                    queue.append(i)\n",
    " \n",
    "        maxDis = 0\n",
    " \n",
    "        # get farthest node distance and its index\n",
    "        for i in range(self.vertices):\n",
    "            if distance[i] > maxDis:\n",
    " \n",
    "                maxDis = distance[i]\n",
    "                nodeIdx = i\n",
    " \n",
    "        return nodeIdx, maxDis\n",
    " \n",
    "    # method prints longest path of given tree\n",
    "    def LongestPathLength(self):\n",
    " \n",
    "        # first DFS to find one end point of longest path\n",
    "        node, Dis = self.BFS(0)\n",
    " \n",
    "        # second DFS to find the actual longest path\n",
    "        node_2, LongDis = self.BFS(node)\n",
    " \n",
    "        print('Longest path is from', node, 'to', node_2, 'of length', LongDis)\n",
    " \n",
    " \n",
    "# create a graph given in the example\n",
    " \n",
    "G = Graph(10)\n",
    "G.addEdge(0, 1)\n",
    "G.addEdge(1, 2)\n",
    "G.addEdge(2, 3)\n",
    "G.addEdge(2, 9)\n",
    "G.addEdge(2, 4)\n",
    "G.addEdge(4, 5)\n",
    "G.addEdge(1, 6)\n",
    "G.addEdge(6, 7)\n",
    "G.addEdge(6, 8)\n",
    " \n",
    "G.LongestPathLength()"
   ]
  },
  {
   "cell_type": "code",
   "execution_count": 4,
   "metadata": {},
   "outputs": [
    {
     "data": {
      "text/plain": [
       "{0: [1],\n",
       " 1: [0, 2, 6],\n",
       " 2: [1, 3, 9, 4],\n",
       " 3: [2],\n",
       " 4: [2, 5],\n",
       " 5: [4],\n",
       " 6: [1, 7, 8],\n",
       " 7: [6],\n",
       " 8: [6],\n",
       " 9: [2]}"
      ]
     },
     "execution_count": 4,
     "metadata": {},
     "output_type": "execute_result"
    }
   ],
   "source": [
    "G.adj"
   ]
  },
  {
   "cell_type": "code",
   "execution_count": 5,
   "metadata": {},
   "outputs": [],
   "source": [
    "import networkx as nx"
   ]
  },
  {
   "cell_type": "code",
   "execution_count": 11,
   "metadata": {},
   "outputs": [],
   "source": [
    "edge_dict = {0: [1],\n",
    " 1: [0, 2, 6],\n",
    " 2: [1, 3, 9, 4],\n",
    " 3: [2],\n",
    " 4: [2, 5],\n",
    " 5: [4],\n",
    " 6: [1, 7, 8],\n",
    " 7: [6],\n",
    " 8: [6],\n",
    " 9: [2]}"
   ]
  },
  {
   "cell_type": "code",
   "execution_count": 7,
   "metadata": {},
   "outputs": [],
   "source": [
    "G = nx.Graph()\n",
    "\n",
    "G.add_edge(1, 2)\n",
    "G.add_edge(2, 3)\n",
    "G.add_edge(3, 1)"
   ]
  },
  {
   "cell_type": "code",
   "execution_count": 8,
   "metadata": {},
   "outputs": [],
   "source": [
    "import matplotlib.pyplot as plt"
   ]
  },
  {
   "cell_type": "code",
   "execution_count": 9,
   "metadata": {},
   "outputs": [
    {
     "data": {
      "image/png": "[encoded data removed]",
      "text/plain": [
       "<Figure size 432x288 with 1 Axes>"
      ]
     },
     "metadata": {},
     "output_type": "display_data"
    }
   ],
   "source": [
    "nx.draw(G)"
   ]
  },
  {
   "cell_type": "code",
   "execution_count": null,
   "metadata": {},
   "outputs": [],
   "source": []
  },
  {
   "cell_type": "code",
   "execution_count": null,
   "metadata": {},
   "outputs": [],
   "source": []
  }
 ],
 "metadata": {
  "kernelspec": {
   "display_name": "Python 3",
   "language": "python",
   "name": "python3"
  },
  "language_info": {
   "codemirror_mode": {
    "name": "ipython",
    "version": 3
   },
   "file_extension": ".py",
   "mimetype": "text/x-python",
   "name": "python",
   "nbconvert_exporter": "python",
   "pygments_lexer": "ipython3",
   "version": "3.8.5"
  }
 },
 "nbformat": 4,
 "nbformat_minor": 4
}
