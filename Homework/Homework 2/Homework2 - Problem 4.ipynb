{
 "cells": [
  {
   "cell_type": "markdown",
   "metadata": {},
   "source": [
    "# CS5800 - Homework2 Programming Assignment:"
   ]
  },
  {
   "cell_type": "markdown",
   "metadata": {},
   "source": [
    "#### Saleh Alkhalifa, 9/25/2022"
   ]
  },
  {
   "cell_type": "markdown",
   "metadata": {},
   "source": [
    "### Objective:"
   ]
  },
  {
   "cell_type": "markdown",
   "metadata": {},
   "source": [
    "Consider an array, , whose contents are integer values. Given a particular threshold value t, an event between indices i<j is a critical event if ai > t*aj, where t is the threshold value given as input from the user. \n",
    "\n",
    "In this problem, write a full program that outputs the number of critical events for an arbitrary array of integers and any arbitrary threshold value t.  Array input can be from a file- please provide an example file with the format expected from the code in your submission.\n",
    "    \n",
    "Programming assignment submission requirements:\n",
    "\n",
    "- Submit the code of working program (You can use any programming language).\n",
    "- Submit at least one file for input, formatted with an example array. \n",
    "- Submit a screen capture showing that your program outputs correct values. You only need to repeat over 2 different arrays running with 2 different threshold."
   ]
  },
  {
   "cell_type": "markdown",
   "metadata": {},
   "source": [
    "### Program with two Examples:"
   ]
  },
  {
   "cell_type": "code",
   "execution_count": 1,
   "metadata": {},
   "outputs": [],
   "source": [
    "def thresholdCriticalEventCounter(A, t):\n",
    "    \"\"\"\n",
    "    Function that will find the total critical event count.\n",
    "    A: An Array of integers such as [1 ,5 -7, 0]\n",
    "    t: Threshold integer such as 3.\n",
    "    \n",
    "    Returns the count\n",
    "    \"\"\"\n",
    "    count = 0\n",
    "    # Iterate over the array, via i\n",
    "    for i in range(len(A)):\n",
    "        #Iterate over the array, via j\n",
    "        for j in range(i+1, len(A)):\n",
    "            # Check with the conditional\n",
    "            if A[i] > A[j]*t:\n",
    "                # If true, increment\n",
    "                count = count + 1\n",
    "    return count"
   ]
  },
  {
   "cell_type": "code",
   "execution_count": 2,
   "metadata": {},
   "outputs": [
    {
     "data": {
      "text/plain": [
       "8"
      ]
     },
     "execution_count": 2,
     "metadata": {},
     "output_type": "execute_result"
    }
   ],
   "source": [
    "array_1 = [1, 1, 1, 1, 1, 1, 1, 1, -1, 1]\n",
    "threshold_1 = 1\n",
    "thresholdCriticalEventCounter(array_1, threshold_1)"
   ]
  },
  {
   "cell_type": "code",
   "execution_count": 3,
   "metadata": {},
   "outputs": [
    {
     "data": {
      "text/plain": [
       "7"
      ]
     },
     "execution_count": 3,
     "metadata": {},
     "output_type": "execute_result"
    }
   ],
   "source": [
    "array_2 = [-1, 5, 100, 45, -12, 11, 80]\n",
    "threshold_2 = 2.0\n",
    "thresholdCriticalEventCounter(array_2, threshold_2)"
   ]
  },
  {
   "cell_type": "markdown",
   "metadata": {},
   "source": [
    "### Testing all Test Cases:"
   ]
  },
  {
   "cell_type": "code",
   "execution_count": 4,
   "metadata": {},
   "outputs": [],
   "source": [
    "from ast import literal_eval"
   ]
  },
  {
   "cell_type": "code",
   "execution_count": 5,
   "metadata": {},
   "outputs": [
    {
     "name": "stdout",
     "output_type": "stream",
     "text": [
      "Found new test case:  [1, 1, 1, 1, 1, 1, 1, 1, -1, 1]\n",
      "Found new test case:  [1, 1, 1, 1, 1, 1, 1, 1, -1, 1]\n",
      "Found new test case:  [-10, -10, 4]\n",
      "Found new test case:  [100, 1, 100, 1]\n",
      "Found new test case:  [-1, 100, 100, 100, 100, 100]\n",
      "Found new test case:  [-100, 100, 100, 100, 100, 100]\n",
      "Found new test case:  [16, 13, 2, 45]\n",
      "Found new test case:  [5, 4, 3, 2, 1]\n",
      "Found new test case:  [-1, 5, 100, 45, -12, 11, 80]\n",
      "Found new test case:  [6, 5, 4, 3, 2, 1]\n",
      "Found new test case:  [-6, 5, 4, 3, 2, 1]\n",
      "-- Found 11 test cases --\n"
     ]
    }
   ],
   "source": [
    "def loadTestCases(filename):\n",
    "    \"\"\"\n",
    "    Loads a test case from the file into the testCases array.\n",
    "    Filename: String that reprensents the input file's name\n",
    "    \"\"\"\n",
    "    test_cases = []\n",
    "    # Load the file\n",
    "    file = open(filename, mode = 'r', encoding = 'utf-8-sig')\n",
    "    lines = file.readlines()\n",
    "    # Ignore the instructions at the top\n",
    "    lines = lines[5:]\n",
    "    file.close()\n",
    "    # Iterate over the file's lines\n",
    "    for idx, line in enumerate(lines):\n",
    "        try:\n",
    "            # Evaluate to determine if its an array\n",
    "            line = literal_eval(line)\n",
    "            # If its an array, append arra, threshold, and count to list\n",
    "            if isinstance(line, list):\n",
    "                print(\"Found new test case: \", line)\n",
    "                tmp_a = line\n",
    "                tmp_t = float(lines[idx+1])\n",
    "                tmp_ans = float(lines[idx+2])\n",
    "                test_cases.append({\"array\": tmp_a, \"threshold\":tmp_t, \"count\":tmp_ans})\n",
    "        except:\n",
    "            continue\n",
    "    # Print the total number of cases found\n",
    "    print(f\"-- Found {len(test_cases)} test cases --\")\n",
    "    return test_cases\n",
    "            \n",
    "test_cases = loadTestCases('Module2HWTestCases.txt')"
   ]
  },
  {
   "cell_type": "code",
   "execution_count": 6,
   "metadata": {},
   "outputs": [
    {
     "name": "stdout",
     "output_type": "stream",
     "text": [
      "8 == 8.0 -> success\n",
      "36 == 36.0 -> success\n",
      "0 == 0.0 -> success\n",
      "6 == 6.0 -> success\n",
      "15 == 15.0 -> success\n",
      "10 == 10.0 -> success\n",
      "6 == 6.0 -> success\n",
      "10 == 10.0 -> success\n",
      "7 == 7.0 -> success\n",
      "3 == 3.0 -> success\n",
      "2 == 2.0 -> success\n",
      "###########################\n",
      "### 11/11 Tests Passed! ###\n",
      "###########################\n"
     ]
    }
   ],
   "source": [
    "def runTests(test_cases):\n",
    "    \"\"\"\n",
    "    Iterates over the test cases and determines if success or not\n",
    "    test_cases: An array of test cases\n",
    "    \"\"\"\n",
    "    count_success = 0\n",
    "    # Iterate over the cases\n",
    "    for test in test_cases:\n",
    "        # Determine the predicted and actual counts\n",
    "        actual_count = test[\"count\"]\n",
    "        predicted_count = thresholdCriticalEventCounter(test[\"array\"], test[\"threshold\"])\n",
    "        # If successful the state it\n",
    "        # Note that 5.0 and 5 will be accepted as being the same\n",
    "        if predicted_count == actual_count:\n",
    "            print(f\"{predicted_count} == {actual_count} -> success\")\n",
    "            count_success = count_success + 1\n",
    "        else:\n",
    "            print(\"{predicted_count} != {actual_count} -> failed\")\n",
    "    print(\"###########################\")\n",
    "    print(f\"### {count_success}/{len(test_cases)} Tests Passed! ###\")\n",
    "    print(\"###########################\")\n",
    "    \n",
    "runTests(test_cases)"
   ]
  },
  {
   "cell_type": "code",
   "execution_count": null,
   "metadata": {},
   "outputs": [],
   "source": []
  },
  {
   "cell_type": "code",
   "execution_count": null,
   "metadata": {},
   "outputs": [],
   "source": []
  },
  {
   "cell_type": "code",
   "execution_count": null,
   "metadata": {},
   "outputs": [],
   "source": []
  }
 ],
 "metadata": {
  "kernelspec": {
   "display_name": "Python 3",
   "language": "python",
   "name": "python3"
  },
  "language_info": {
   "codemirror_mode": {
    "name": "ipython",
    "version": 3
   },
   "file_extension": ".py",
   "mimetype": "text/x-python",
   "name": "python",
   "nbconvert_exporter": "python",
   "pygments_lexer": "ipython3",
   "version": "3.8.5"
  }
 },
 "nbformat": 4,
 "nbformat_minor": 4
}
