{
 "cells": [
  {
   "cell_type": "markdown",
   "metadata": {},
   "source": [
    "# Homework 5 "
   ]
  },
  {
   "cell_type": "markdown",
   "metadata": {},
   "source": [
    "#### Saleh Alkhalifa\n",
    "#### CS 5800"
   ]
  },
  {
   "cell_type": "markdown",
   "metadata": {},
   "source": [
    "## Problem 1:"
   ]
  },
  {
   "cell_type": "code",
   "execution_count": 1,
   "metadata": {},
   "outputs": [],
   "source": [
    "def add_new_edge(adjacency_list, source, destination):\n",
    "    \"\"\"\n",
    "    Helper function that adds a new edge to an adjacency list\n",
    "    @param adjacency_list: An adjacency list to add a new edge to\n",
    "    @param source: The source node for the new edge\n",
    "    @param destination: The destination node for the new edge\n",
    "    \"\"\"\n",
    "    adjacency_list[source].append(destination)\n",
    "    \n",
    "def display_adjacency_list(adjacency_list, v):\n",
    "    \"\"\"\n",
    "    Displays a visual representation of an adjacency list\n",
    "    @param adjacency_list: An adjacency list to add a new edge to\n",
    "    @param v: Number of nodes\n",
    "    \"\"\"\n",
    "    for i in range(v):\n",
    "        print(\"-------------------\")\n",
    "        print(\"|\", i, \"|\", \"\", end = \"\")\n",
    "        for j in range(len(adjacency_list[i])):\n",
    "            print(\"-> \", end=\"\")\n",
    "            print(adjacency_list[i][j], \"\", end = \"\")\n",
    "        print()\n",
    "    print(\"-------------------\")\n",
    "    \n",
    "def reverse_adjacency_list(adjacency_list, v):\n",
    "    \"\"\"\n",
    "    Takes a given list, reveses each of the edges and returns new list\n",
    "    @param adjacency_list: An adjacency list to add a new edge to\n",
    "    @param v: Number of nodes\n",
    "    \"\"\"\n",
    "    rev_adjacency_list = [[] for i in range(v)]\n",
    "    for i in range(v):\n",
    "        for j in range(len(adjacency_list[i])):\n",
    "            add_new_edge(rev_adjacency_list, adjacency_list[i][j], i)\n",
    "    return rev_adjacency_list\n",
    "\n",
    "def create_and_display_adjacency_list(adjacency_list, v):\n",
    "    \"\"\"\n",
    "    Creates and displays a new graph\n",
    "    @param adjacency_list: An adjacency list to add a new edge to\n",
    "    @param v: Number of nodes\n",
    "    \"\"\"\n",
    "    add_new_edge(adjacency_list, 0, 1)\n",
    "    add_new_edge(adjacency_list, 1, 2)\n",
    "    add_new_edge(adjacency_list, 2, 3)\n",
    "    add_new_edge(adjacency_list, 1, 3)\n",
    "\n",
    "    display_adjacency_list(adjacency_list, v)"
   ]
  },
  {
   "cell_type": "code",
   "execution_count": 2,
   "metadata": {},
   "outputs": [
    {
     "name": "stdout",
     "output_type": "stream",
     "text": [
      "-------------------\n",
      "| 0 | -> 1 \n",
      "-------------------\n",
      "| 1 | -> 2 -> 3 \n",
      "-------------------\n",
      "| 2 | -> 3 \n",
      "-------------------\n",
      "| 3 | \n",
      "-------------------\n"
     ]
    }
   ],
   "source": [
    "adjacency_list = [[] for i in range(4)]\n",
    "\n",
    "create_and_display_adjacency_list(adjacency_list, 4)"
   ]
  },
  {
   "cell_type": "code",
   "execution_count": 3,
   "metadata": {},
   "outputs": [
    {
     "data": {
      "text/plain": [
       "[[1], [2, 3], [3], []]"
      ]
     },
     "execution_count": 3,
     "metadata": {},
     "output_type": "execute_result"
    }
   ],
   "source": [
    "adjacency_list"
   ]
  },
  {
   "cell_type": "code",
   "execution_count": 4,
   "metadata": {},
   "outputs": [],
   "source": [
    "rev_adjacency_list = reverse_adjacency_list(adjacency_list, 4)"
   ]
  },
  {
   "cell_type": "code",
   "execution_count": 5,
   "metadata": {},
   "outputs": [
    {
     "data": {
      "text/plain": [
       "[[], [0], [1], [1, 2]]"
      ]
     },
     "execution_count": 5,
     "metadata": {},
     "output_type": "execute_result"
    }
   ],
   "source": [
    "rev_adjacency_list"
   ]
  },
  {
   "cell_type": "code",
   "execution_count": 7,
   "metadata": {},
   "outputs": [
    {
     "name": "stdout",
     "output_type": "stream",
     "text": [
      "-------------------\n",
      "| 0 | \n",
      "-------------------\n",
      "| 1 | -> 0 \n",
      "-------------------\n",
      "| 2 | -> 1 \n",
      "-------------------\n",
      "| 3 | -> 1 -> 2 \n",
      "-------------------\n"
     ]
    }
   ],
   "source": [
    "display_adjacency_list(rev_adjacency_list, 4)"
   ]
  },
  {
   "cell_type": "markdown",
   "metadata": {},
   "source": [
    "## Problem 2:"
   ]
  },
  {
   "cell_type": "code",
   "execution_count": 1,
   "metadata": {},
   "outputs": [],
   "source": [
    "import heapq\n",
    "from math import floor"
   ]
  },
  {
   "cell_type": "code",
   "execution_count": 10,
   "metadata": {},
   "outputs": [],
   "source": [
    "class MedianHeap:\n",
    "    def __init__(self):\n",
    "        \"\"\"\n",
    "        Constrctor that creates two heaps, min_heap and max_heap\n",
    "        \"\"\"\n",
    "        self.min_heap = []\n",
    "        self.max_heap = []\n",
    "        \n",
    "    def _max_heap_push(self, num):\n",
    "        # Helper function that pushes number into the heap\n",
    "        heapq.heappush(self.min_heap, -1 * num)\n",
    "        \n",
    "    def _max_heap_pop(self):\n",
    "        # Helper function that pops number into the heap\n",
    "        return -1* heapq.heappop(self.min_heap)\n",
    "    \n",
    "    def _min_heap_push(self,num):\n",
    "        # Helper function that pushes number into the heap\n",
    "        heapq.heappush(self.max_heap, num)\n",
    "        \n",
    "    def _min_heap_pop(self):\n",
    "        # Helper function that pops number into the heap\n",
    "        return heapq.heappop(self.max_heap)\n",
    "        \n",
    "    def insert(self, x):\n",
    "        \"\"\"\n",
    "        Function that inserts new value into the heap\n",
    "        \"\"\"\n",
    "        # Add value to max_heap first\n",
    "        self._max_heap_push(x)\n",
    "        \n",
    "        # Condition to check the value is greater than first element of max_heap\n",
    "        if self.max_heap and x > self.max_heap[0]:\n",
    "             self._min_heap_push(self._max_heap_pop())\n",
    "                \n",
    "        # Check if difference is greater than 1, rebalance\n",
    "        if len(self.min_heap) - len(self.max_heap) >= 2:\n",
    "            self._min_heap_push(self._max_heap_pop())\n",
    "            \n",
    "        # Check if difference is greater than 1 , rebalance\n",
    "        if len(self.max_heap) - len(self.min_heap) >= 2:\n",
    "            self._max_heap_push(self._min_heap_pop())\n",
    "        \n",
    "    def find_median(self):\n",
    "        \"\"\"\n",
    "        Function that retrieves the median value\n",
    "        \"\"\"\n",
    "        # Check of lengths are the same\n",
    "        if len(self.min_heap) == len(self.max_heap):\n",
    "            # Calcualte the median based on top of two heaps\n",
    "            result = (-1 * self.min_heap[0] + self.max_heap[0]) / 2\n",
    "            # Floor the result per specifications\n",
    "            result = floor(result)\n",
    "            return result\n",
    "        else:\n",
    "            if len(self.min_heap) > len(self.max_heap):\n",
    "                result = -1 * self.min_heap[0]\n",
    "                return result\n",
    "            else:\n",
    "                return self.max_heap[0]\n",
    "            \n",
    "    \n",
    "    def peek(self):\n",
    "        \"\"\"\n",
    "        Function that retrieves the median value using find_median()\n",
    "        \"\"\"\n",
    "        print(\">>>> Peek:\")\n",
    "        return self.find_median()\n",
    "    \n",
    "    def show_heaps(self):\n",
    "        \"\"\"\n",
    "        Function that prints the two heaps\n",
    "        \"\"\"\n",
    "        print(\">>>> Show:\")\n",
    "        print(\"Max: \", self.max_heap)\n",
    "        print(\"Min: \", self.min_heap)\n",
    "        return \"\"\n",
    "\n",
    "    def extract(self):\n",
    "        \"\"\"\n",
    "        Function that removes and returns the median\n",
    "        \"\"\"\n",
    "        print(\">>>> Extract:\")\n",
    "        median = self.find_median()\n",
    "        if median == self.min_heap[0]:\n",
    "            self._max_heap_pop()\n",
    "            return median\n",
    "        else:\n",
    "            self._min_heap_pop()\n",
    "            return median"
   ]
  },
  {
   "cell_type": "code",
   "execution_count": 11,
   "metadata": {},
   "outputs": [
    {
     "name": "stdout",
     "output_type": "stream",
     "text": [
      ">>>> Peek:\n",
      "4\n",
      ">>>> Extract:\n",
      "4\n"
     ]
    }
   ],
   "source": [
    "med = MedianHeap()\n",
    "med.insert(1)\n",
    "med.insert(2)\n",
    "med.insert(3)\n",
    "med.insert(4)\n",
    "med.insert(5)\n",
    "med.insert(6)\n",
    "med.insert(7)\n",
    "\n",
    "print(med.peek())\n",
    "print(med.extract())\n"
   ]
  },
  {
   "cell_type": "code",
   "execution_count": 12,
   "metadata": {},
   "outputs": [
    {
     "name": "stdout",
     "output_type": "stream",
     "text": [
      ">>>> Peek:\n",
      "4\n",
      ">>>> Show:\n",
      "Max:  [5, 6, 8, 7]\n",
      "Min:  [-4, -3, -2, -1]\n",
      "\n"
     ]
    }
   ],
   "source": [
    "med = MedianHeap()\n",
    "med.insert(1)\n",
    "med.insert(2)\n",
    "med.insert(3)\n",
    "med.insert(4)\n",
    "med.insert(5)\n",
    "med.insert(6)\n",
    "med.insert(7)\n",
    "med.insert(8)\n",
    "\n",
    "print(med.peek())\n",
    "print(med.show_heaps())"
   ]
  },
  {
   "cell_type": "code",
   "execution_count": 13,
   "metadata": {},
   "outputs": [
    {
     "name": "stdout",
     "output_type": "stream",
     "text": [
      ">>>> Peek:\n",
      "5\n",
      ">>>> Show:\n",
      "Max:  [5, 6, 8, 7, 9]\n",
      "Min:  [-4, -3, -2, -1]\n",
      "\n"
     ]
    }
   ],
   "source": [
    "med = MedianHeap()\n",
    "med.insert(1)\n",
    "med.insert(2)\n",
    "med.insert(3)\n",
    "med.insert(4)\n",
    "med.insert(5)\n",
    "med.insert(6)\n",
    "med.insert(7)\n",
    "med.insert(8)\n",
    "med.insert(9)\n",
    "\n",
    "print(med.peek())\n",
    "print(med.show_heaps())"
   ]
  },
  {
   "cell_type": "code",
   "execution_count": null,
   "metadata": {},
   "outputs": [],
   "source": []
  }
 ],
 "metadata": {
  "kernelspec": {
   "display_name": "Python 3",
   "language": "python",
   "name": "python3"
  },
  "language_info": {
   "codemirror_mode": {
    "name": "ipython",
    "version": 3
   },
   "file_extension": ".py",
   "mimetype": "text/x-python",
   "name": "python",
   "nbconvert_exporter": "python",
   "pygments_lexer": "ipython3",
   "version": "3.8.5"
  }
 },
 "nbformat": 4,
 "nbformat_minor": 4
}
