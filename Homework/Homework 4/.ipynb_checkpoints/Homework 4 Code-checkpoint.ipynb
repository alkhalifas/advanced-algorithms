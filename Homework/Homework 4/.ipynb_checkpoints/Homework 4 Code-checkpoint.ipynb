{
 "cells": [
  {
   "cell_type": "markdown",
   "metadata": {},
   "source": [
    "## Homework 4"
   ]
  },
  {
   "cell_type": "markdown",
   "metadata": {},
   "source": [
    "#### CS 5800\n",
    "#### Saleh Alkhalifa"
   ]
  },
  {
   "cell_type": "markdown",
   "metadata": {},
   "source": [
    "## Problem 1:"
   ]
  },
  {
   "cell_type": "markdown",
   "metadata": {},
   "source": [
    "Give an eﬀicient sorting algorithm for an array C[1,...,n] whose elements are taken from the set {1,2,3,4,5,6,7}."
   ]
  },
  {
   "cell_type": "code",
   "execution_count": 1,
   "metadata": {},
   "outputs": [],
   "source": [
    "# Define the example array to sort\n",
    "sample_arr = [1,4,4,4,6,2,1,5,6,3,3,1,1,1,7]"
   ]
  },
  {
   "cell_type": "code",
   "execution_count": 4,
   "metadata": {},
   "outputs": [],
   "source": [
    "# Determine the length\n",
    "length = len(sample_arr)"
   ]
  },
  {
   "cell_type": "code",
   "execution_count": 5,
   "metadata": {},
   "outputs": [],
   "source": [
    "# Create new list to store counts, instantiate at 0:\n",
    "count = [0] * 8\n",
    "output = [0] * length"
   ]
  },
  {
   "cell_type": "code",
   "execution_count": 6,
   "metadata": {},
   "outputs": [
    {
     "data": {
      "text/plain": [
       "[0, 0, 0, 0, 0, 0, 0, 0]"
      ]
     },
     "execution_count": 6,
     "metadata": {},
     "output_type": "execute_result"
    }
   ],
   "source": [
    "count"
   ]
  },
  {
   "cell_type": "code",
   "execution_count": 7,
   "metadata": {},
   "outputs": [
    {
     "data": {
      "text/plain": [
       "[0, 0, 0, 0, 0, 0, 0, 0, 0, 0, 0, 0, 0, 0, 0]"
      ]
     },
     "execution_count": 7,
     "metadata": {},
     "output_type": "execute_result"
    }
   ],
   "source": [
    "output"
   ]
  },
  {
   "cell_type": "code",
   "execution_count": 9,
   "metadata": {},
   "outputs": [],
   "source": [
    "# Count each elemet and increment value in array index\n",
    "for i in range(0, length):\n",
    "    count[sample_arr[i]] +=1"
   ]
  },
  {
   "cell_type": "code",
   "execution_count": 10,
   "metadata": {},
   "outputs": [
    {
     "data": {
      "text/plain": [
       "[0, 5, 1, 2, 3, 1, 2, 1]"
      ]
     },
     "execution_count": 10,
     "metadata": {},
     "output_type": "execute_result"
    }
   ],
   "source": [
    "count"
   ]
  },
  {
   "cell_type": "code",
   "execution_count": 11,
   "metadata": {},
   "outputs": [
    {
     "data": {
      "text/plain": [
       "[0, 5, 6, 8, 11, 12, 14, 15]"
      ]
     },
     "execution_count": 11,
     "metadata": {},
     "output_type": "execute_result"
    }
   ],
   "source": [
    "# Store cumulative count\n",
    "for i in range(1, 8):\n",
    "    count[i] += count[i - 1]\n",
    "count"
   ]
  },
  {
   "cell_type": "code",
   "execution_count": 13,
   "metadata": {},
   "outputs": [],
   "source": [
    "# Iterate over array, reduce by 1, populate output array\n",
    "i = length - 1\n",
    "while i >= 0:\n",
    "    output[count[sample_arr[i]] - 1] = sample_arr[i]\n",
    "    count[sample_arr[i]] -= 1\n",
    "    i -= 1"
   ]
  },
  {
   "cell_type": "code",
   "execution_count": 14,
   "metadata": {},
   "outputs": [
    {
     "data": {
      "text/plain": [
       "[1, 1, 1, 1, 1, 2, 3, 3, 4, 4, 4, 5, 6, 6, 7]"
      ]
     },
     "execution_count": 14,
     "metadata": {},
     "output_type": "execute_result"
    }
   ],
   "source": [
    "output"
   ]
  },
  {
   "cell_type": "code",
   "execution_count": 19,
   "metadata": {},
   "outputs": [],
   "source": [
    "def count_sort_problem1(in_arr):\n",
    "    print(\"Before: \", in_arr)\n",
    "    # Define the example array to sort\n",
    "    length = len(in_arr)\n",
    "    \n",
    "    # Create new list to store counts and output:\n",
    "    count = [0] * 8\n",
    "    output = [0] * length\n",
    "    \n",
    "    # Count each elemet and increment value in array index:\n",
    "    for i in range(0, length):\n",
    "        count[in_arr[i]] +=1\n",
    "        \n",
    "    # Store cumulative count\n",
    "    for i in range(1, 8):\n",
    "        count[i] += count[i - 1]\n",
    "    \n",
    "    # Iterate over array, reduce by 1, populate output array\n",
    "    i = length - 1\n",
    "    while i >= 0:\n",
    "        output[count[in_arr[i]] - 1] = in_arr[i]\n",
    "        count[in_arr[i]] -= 1\n",
    "        i -= 1\n",
    "    print(\"After : \", output)\n",
    "    return output"
   ]
  },
  {
   "cell_type": "code",
   "execution_count": 21,
   "metadata": {},
   "outputs": [
    {
     "name": "stdout",
     "output_type": "stream",
     "text": [
      "Before:  [1, 4, 4, 4, 6, 2, 1, 5, 6, 3, 3, 1, 1, 1, 7]\n",
      "After :  [1, 1, 1, 1, 1, 2, 3, 3, 4, 4, 4, 5, 6, 6, 7]\n"
     ]
    }
   ],
   "source": [
    "x = count_sort_problem1([1, 4, 4, 4, 6, 2, 1, 5, 6, 3, 3, 1, 1, 1, 7])"
   ]
  },
  {
   "cell_type": "code",
   "execution_count": 24,
   "metadata": {},
   "outputs": [
    {
     "name": "stdout",
     "output_type": "stream",
     "text": [
      "Before:  [7, 6, 5, 4, 3, 2, 1]\n",
      "After :  [1, 2, 3, 4, 5, 6, 7]\n"
     ]
    }
   ],
   "source": [
    "x = count_sort_problem1([7,6,5,4,3,2,1])"
   ]
  },
  {
   "cell_type": "code",
   "execution_count": 25,
   "metadata": {},
   "outputs": [
    {
     "name": "stdout",
     "output_type": "stream",
     "text": [
      "Before:  [7, 1, 1, 1, 1, 1, 1, 1]\n",
      "After :  [1, 1, 1, 1, 1, 1, 1, 7]\n"
     ]
    }
   ],
   "source": [
    "x = count_sort_problem1([7,1,1,1,1,1,1,1])"
   ]
  }
 ],
 "metadata": {
  "kernelspec": {
   "display_name": "Python 3",
   "language": "python",
   "name": "python3"
  },
  "language_info": {
   "codemirror_mode": {
    "name": "ipython",
    "version": 3
   },
   "file_extension": ".py",
   "mimetype": "text/x-python",
   "name": "python",
   "nbconvert_exporter": "python",
   "pygments_lexer": "ipython3",
   "version": "3.8.5"
  }
 },
 "nbformat": 4,
 "nbformat_minor": 4
}
