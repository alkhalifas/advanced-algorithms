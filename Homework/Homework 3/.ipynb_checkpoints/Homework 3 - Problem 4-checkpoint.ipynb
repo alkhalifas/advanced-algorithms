{
 "cells": [
  {
   "cell_type": "markdown",
   "metadata": {},
   "source": [
    "# Homework 3 - Programming Assignment"
   ]
  },
  {
   "cell_type": "markdown",
   "metadata": {},
   "source": [
    "#### Saleh Alkhalifa\n",
    "#### 10/1/2022\n",
    "#### CS5800"
   ]
  },
  {
   "cell_type": "markdown",
   "metadata": {},
   "source": [
    "## Maximum Product Subarray\n",
    "- Given an integer array **nums**, find a contiguous non-empty subarray within the array that has the largest product, and return *the product*.\n",
    "\n",
    "- The test cases are generated so that the answer will fit in a **32-bit** integer.\n",
    "\n",
    "- A subarray is a contiguous subsequence of the array."
   ]
  },
  {
   "cell_type": "markdown",
   "metadata": {},
   "source": [
    "#### Example 1:\n",
    "\n",
    "Input: nums = [2,3,-2,4]\n",
    "\n",
    "Output: 6\n",
    "\n",
    "Explanation: [2,3] has the largest product 6."
   ]
  },
  {
   "cell_type": "markdown",
   "metadata": {},
   "source": [
    "#### Example 2:\n",
    "\n",
    "Input: nums = [-2,0,-1]\n",
    "    \n",
    "Output: 0\n",
    "    \n",
    "Explanation: The result cannot be 2, because [-2,-1] is not a subarray."
   ]
  },
  {
   "cell_type": "markdown",
   "metadata": {},
   "source": [
    "#### Constraints:\n",
    "\n",
    "- 1 <= nums.length <= 2 * 104\n",
    "- -10 <= nums[i] <= 10\n",
    "- The product of any prefix or suffix of **nums** is guaranteed to fit in a 32-bit integer."
   ]
  },
  {
   "cell_type": "markdown",
   "metadata": {},
   "source": [
    "### Answer:"
   ]
  },
  {
   "cell_type": "code",
   "execution_count": 1,
   "metadata": {},
   "outputs": [
    {
     "data": {
      "text/plain": [
       "4294967295"
      ]
     },
     "execution_count": 1,
     "metadata": {},
     "output_type": "execute_result"
    }
   ],
   "source": [
    "# Assuming the largest 32-bit integer in Python is 0xffffffff\n",
    "n = 0xffffffff\n",
    "n"
   ]
  },
  {
   "cell_type": "code",
   "execution_count": 47,
   "metadata": {},
   "outputs": [],
   "source": [
    "def maximumSubArrayProductFinder(nums):\n",
    "    \"\"\"\n",
    "    Returns the largest product of a subarray found in\n",
    "    the input array nums\n",
    "    \n",
    "    Input (array) : An array such as [1, 2, 3, -5]\n",
    "    \n",
    "    Returns (int) :  An integer representing the largest product of a subarray\n",
    "    \"\"\"\n",
    "    \n",
    "    # Check for empty array\n",
    "    if len(nums) < 1:\n",
    "        return \"Empty Array\"\n",
    "    elif len(nums) > 20000:\n",
    "        return \"Too large\"\n",
    "    \n",
    "    # Reverse order of array\n",
    "    nums_reversed = nums[::-1]\n",
    "    \n",
    "    print(\"Original: \", nums)\n",
    "    print(\"Reversed: \", nums_reversed)\n",
    "    \n",
    "    # Iterate over the array nums\n",
    "    for num in range(1, len(nums)):\n",
    "        \n",
    "        # Alter nums[num] with the product\n",
    "        nums[num] *= nums[num - 1] or 1\n",
    "        \n",
    "        # Alter nums_reversed[num] with the product\n",
    "        nums_reversed[num] *= nums_reversed[num - 1] or 1\n",
    "        \n",
    "    # Complete array:\n",
    "    full_array = nums + nums_reversed\n",
    "    \n",
    "    # Find maximum:\n",
    "    maximum = max(full_array)\n",
    "    \n",
    "    # Return the maximum of the array\n",
    "    return maximum"
   ]
  },
  {
   "cell_type": "code",
   "execution_count": 48,
   "metadata": {},
   "outputs": [
    {
     "name": "stdout",
     "output_type": "stream",
     "text": [
      "Original:  [2, 3, -2, 4]\n",
      "Reversed:  [4, -2, 3, 2]\n"
     ]
    },
    {
     "data": {
      "text/plain": [
       "6"
      ]
     },
     "execution_count": 48,
     "metadata": {},
     "output_type": "execute_result"
    }
   ],
   "source": [
    "input_array_1 = [2,3,-2,4]\n",
    "maximumSubArrayProductFinder(input_array_1)"
   ]
  },
  {
   "cell_type": "code",
   "execution_count": 49,
   "metadata": {},
   "outputs": [
    {
     "name": "stdout",
     "output_type": "stream",
     "text": [
      "Original:  [-2, 0, -1]\n",
      "Reversed:  [-1, 0, -2]\n"
     ]
    },
    {
     "data": {
      "text/plain": [
       "0"
      ]
     },
     "execution_count": 49,
     "metadata": {},
     "output_type": "execute_result"
    }
   ],
   "source": [
    "input_array_2 = [-2, 0, -1]\n",
    "maximumSubArrayProductFinder(input_array_2)"
   ]
  },
  {
   "cell_type": "code",
   "execution_count": 50,
   "metadata": {},
   "outputs": [
    {
     "name": "stdout",
     "output_type": "stream",
     "text": [
      "Original:  [-10, 5, -5, 0, 10]\n",
      "Reversed:  [10, 0, -5, 5, -10]\n"
     ]
    },
    {
     "data": {
      "text/plain": [
       "250"
      ]
     },
     "execution_count": 50,
     "metadata": {},
     "output_type": "execute_result"
    }
   ],
   "source": [
    "input_array_3 = [-10, 5, -5, 0, 10]\n",
    "maximumSubArrayProductFinder(input_array_3)"
   ]
  },
  {
   "cell_type": "code",
   "execution_count": 51,
   "metadata": {},
   "outputs": [
    {
     "name": "stdout",
     "output_type": "stream",
     "text": [
      "Original:  [-1, 2, -3, 4, 5]\n",
      "Reversed:  [5, 4, -3, 2, -1]\n"
     ]
    },
    {
     "data": {
      "text/plain": [
       "120"
      ]
     },
     "execution_count": 51,
     "metadata": {},
     "output_type": "execute_result"
    }
   ],
   "source": [
    "input_array_4 = [-1, 2, -3, 4, 5]\n",
    "maximumSubArrayProductFinder(input_array_4)"
   ]
  },
  {
   "cell_type": "code",
   "execution_count": 52,
   "metadata": {},
   "outputs": [
    {
     "name": "stdout",
     "output_type": "stream",
     "text": [
      "Original:  [-10, 5, -5, 0, 10, 2, 5, 7, 10, 8, 5, 1, -10]\n",
      "Reversed:  [-10, 1, 5, 8, 10, 7, 5, 2, 10, 0, -5, 5, -10]\n"
     ]
    },
    {
     "data": {
      "text/plain": [
       "280000"
      ]
     },
     "execution_count": 52,
     "metadata": {},
     "output_type": "execute_result"
    }
   ],
   "source": [
    "input_array_5 = [-10, 5, -5, 0, 10, 2, 5, 7, 10, 8, 5, 1, -10]\n",
    "maximumSubArrayProductFinder(input_array_5)"
   ]
  },
  {
   "cell_type": "code",
   "execution_count": 53,
   "metadata": {},
   "outputs": [
    {
     "name": "stdout",
     "output_type": "stream",
     "text": [
      "Original:  [-2, 0, 0, 0, 0, -55]\n",
      "Reversed:  [-55, 0, 0, 0, 0, -2]\n"
     ]
    },
    {
     "data": {
      "text/plain": [
       "0"
      ]
     },
     "execution_count": 53,
     "metadata": {},
     "output_type": "execute_result"
    }
   ],
   "source": [
    "input_array_6 = [-2, 0, 0, 0, 0, -55]\n",
    "maximumSubArrayProductFinder(input_array_6)"
   ]
  },
  {
   "cell_type": "code",
   "execution_count": 54,
   "metadata": {},
   "outputs": [
    {
     "name": "stdout",
     "output_type": "stream",
     "text": [
      "Original:  [-2, -55, 0]\n",
      "Reversed:  [0, -55, -2]\n"
     ]
    },
    {
     "data": {
      "text/plain": [
       "110"
      ]
     },
     "execution_count": 54,
     "metadata": {},
     "output_type": "execute_result"
    }
   ],
   "source": [
    "input_array_7 = [-2, -55, 0]\n",
    "maximumSubArrayProductFinder(input_array_7)"
   ]
  },
  {
   "cell_type": "code",
   "execution_count": 55,
   "metadata": {},
   "outputs": [
    {
     "name": "stdout",
     "output_type": "stream",
     "text": [
      "Original:  [0, -2, -1]\n",
      "Reversed:  [-1, -2, 0]\n"
     ]
    },
    {
     "data": {
      "text/plain": [
       "2"
      ]
     },
     "execution_count": 55,
     "metadata": {},
     "output_type": "execute_result"
    }
   ],
   "source": [
    "input_array_8 = [0, -2, -1]\n",
    "maximumSubArrayProductFinder(input_array_8)"
   ]
  },
  {
   "cell_type": "code",
   "execution_count": 56,
   "metadata": {},
   "outputs": [
    {
     "name": "stdout",
     "output_type": "stream",
     "text": [
      "Original:  [0]\n",
      "Reversed:  [0]\n"
     ]
    },
    {
     "data": {
      "text/plain": [
       "0"
      ]
     },
     "execution_count": 56,
     "metadata": {},
     "output_type": "execute_result"
    }
   ],
   "source": [
    "input_array_9 = [0]\n",
    "maximumSubArrayProductFinder(input_array_9)"
   ]
  },
  {
   "cell_type": "code",
   "execution_count": 57,
   "metadata": {},
   "outputs": [
    {
     "data": {
      "text/plain": [
       "'Empty Array'"
      ]
     },
     "execution_count": 57,
     "metadata": {},
     "output_type": "execute_result"
    }
   ],
   "source": [
    "input_array_10 = []\n",
    "maximumSubArrayProductFinder(input_array_10)"
   ]
  },
  {
   "cell_type": "code",
   "execution_count": 46,
   "metadata": {},
   "outputs": [
    {
     "data": {
      "text/plain": [
       "'Too large'"
      ]
     },
     "execution_count": 46,
     "metadata": {},
     "output_type": "execute_result"
    }
   ],
   "source": [
    "input_array_11 = [5]*20001\n",
    "maximumSubArrayProductFinder(input_array_11)"
   ]
  },
  {
   "cell_type": "code",
   "execution_count": null,
   "metadata": {},
   "outputs": [],
   "source": []
  }
 ],
 "metadata": {
  "kernelspec": {
   "display_name": "Python 3",
   "language": "python",
   "name": "python3"
  },
  "language_info": {
   "codemirror_mode": {
    "name": "ipython",
    "version": 3
   },
   "file_extension": ".py",
   "mimetype": "text/x-python",
   "name": "python",
   "nbconvert_exporter": "python",
   "pygments_lexer": "ipython3",
   "version": "3.8.5"
  }
 },
 "nbformat": 4,
 "nbformat_minor": 4
}
